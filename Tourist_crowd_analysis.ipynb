{
  "nbformat": 4,
  "nbformat_minor": 0,
  "metadata": {
    "colab": {
      "provenance": []
    },
    "kernelspec": {
      "name": "python3",
      "display_name": "Python 3"
    },
    "language_info": {
      "name": "python"
    }
  },
  "cells": [
    {
      "cell_type": "code",
      "execution_count": null,
      "metadata": {
        "id": "aFnSQVFzIM_F"
      },
      "outputs": [],
      "source": [
        "# Step 1: Import Libraries\n",
        "import pandas as pd\n",
        "import matplotlib.pyplot as plt\n",
        "import seaborn as sns\n",
        "\n",
        "# Step 2: Load Dataset\n",
        "df = pd.read_csv(\"/content/tourist_data.csv\")  # Upload this CSV in Colab\n",
        "\n",
        "# Step 3: Quick Look at Data\n",
        "print(df.head())\n",
        "print(df.describe())\n",
        "\n",
        "# Step 4: Average Visitors per Place\n",
        "avg_visitors = df.groupby('Place')['Visitors'].mean().sort_values(ascending=False)\n",
        "print(\"Average visitors per place:\\n\", avg_visitors)\n",
        "\n",
        "# Step 5: Bar Chart - Average Visitors per Place\n",
        "plt.figure(figsize=(8,5))\n",
        "sns.barplot(x=avg_visitors.index, y=avg_visitors.values, palette=\"coolwarm\")\n",
        "plt.title(\"Average Daily Visitors per Tourist Spot\")\n",
        "plt.ylabel(\"Visitors\")\n",
        "plt.show()\n",
        "\n",
        "# Step 6: Trend of Visitors Over Days for Each Place\n",
        "df['Date'] = pd.to_datetime(df['Date'])\n",
        "plt.figure(figsize=(10,6))\n",
        "sns.lineplot(x='Date', y='Visitors', hue='Place', data=df, marker='o')\n",
        "plt.title(\"Visitor Trends Over Days\")\n",
        "plt.xlabel(\"Date\")\n",
        "plt.ylabel(\"Number of Visitors\")\n",
        "plt.grid(True)\n",
        "plt.show()\n",
        "\n",
        "# Step 7: Best Day to Visit Each Place (Least Crowded)\n",
        "best_days = df.groupby('Place').apply(lambda x: x.loc[x['Visitors'].idxmin()])\n",
        "print(\"Best day to visit each place (least crowd):\")\n",
        "print(best_days[['Place','Date','Day','Visitors']])\n"
      ]
    }
  ]
}